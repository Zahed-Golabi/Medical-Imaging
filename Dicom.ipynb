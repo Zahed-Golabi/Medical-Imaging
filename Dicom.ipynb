{
 "cells": [
  {
   "cell_type": "code",
   "execution_count": 1,
   "id": "12f454a0",
   "metadata": {},
   "outputs": [],
   "source": [
    "from pathlib import Path\n",
    "import pydicom\n",
    "import matplotlib.pyplot as plt"
   ]
  },
  {
   "cell_type": "code",
   "execution_count": 2,
   "id": "6ff89491",
   "metadata": {},
   "outputs": [],
   "source": [
    "dicom_file = pydicom.read_file(\"imgs/1-001.dcm\")"
   ]
  },
  {
   "cell_type": "code",
   "execution_count": 3,
   "id": "d9506473",
   "metadata": {},
   "outputs": [
    {
     "name": "stdout",
     "output_type": "stream",
     "text": [
      "Dataset.file_meta -------------------------------\n",
      "(0002, 0000) File Meta Information Group Length  UL: 202\n",
      "(0002, 0001) File Meta Information Version       OB: b'\\x00\\x01'\n",
      "(0002, 0002) Media Storage SOP Class UID         UI: MR Image Storage\n",
      "(0002, 0003) Media Storage SOP Instance UID      UI: 1.3.6.1.4.1.14519.5.2.1.61562882741766589207544921171198606091\n",
      "(0002, 0010) Transfer Syntax UID                 UI: Implicit VR Little Endian\n",
      "(0002, 0012) Implementation Class UID            UI: 1.3.6.1.4.1.22213.1.143\n",
      "(0002, 0013) Implementation Version Name         SH: '0.5'\n",
      "(0002, 0016) Source Application Entity Title     AE: 'POSDA'\n",
      "-------------------------------------------------\n",
      "(0008, 0005) Specific Character Set              CS: 'ISO_IR 100'\n",
      "(0008, 0008) Image Type                          CS: ['DERIVED', 'SECONDARY', 'MPR', 'CSA MPR', '', 'CSAPARALLEL', 'M', 'ND', 'NORM']\n",
      "(0008, 0016) SOP Class UID                       UI: MR Image Storage\n",
      "(0008, 0018) SOP Instance UID                    UI: 1.3.6.1.4.1.14519.5.2.1.61562882741766589207544921171198606091\n",
      "(0008, 0020) Study Date                          DA: '20080405'\n",
      "(0008, 0021) Series Date                         DA: '20080405'\n",
      "(0008, 0022) Acquisition Date                    DA: '20080405'\n",
      "(0008, 0023) Content Date                        DA: '20080318'\n",
      "(0008, 0030) Study Time                          TM: '103630.723000'\n",
      "(0008, 0031) Series Time                         TM: '111238.970000'\n",
      "(0008, 0032) Acquisition Time                    TM: '110159.677500'\n",
      "(0008, 0033) Content Time                        TM: '111238.980000'\n",
      "(0008, 0050) Accession Number                    SH: ''\n",
      "(0008, 0060) Modality                            CS: 'MR'\n",
      "(0008, 0070) Manufacturer                        LO: 'SIEMENS'\n",
      "(0008, 0090) Referring Physician's Name          PN: ''\n",
      "(0008, 1030) Study Description                   LO: 'MRI BRAIN (TUMOR) WITH AND WITHOUT CONTRAST'\n",
      "(0008, 103e) Series Description                  LO: 'axial mprage post reformat'\n",
      "(0008, 1090) Manufacturer's Model Name           LO: 'Skyra'\n",
      "(0008, 1110)  Referenced Study Sequence  1 item(s) ---- \n",
      "   (0008, 1150) Referenced SOP Class UID            UI: Detached Study Management SOP Class\n",
      "   (0008, 1155) Referenced SOP Instance UID         UI: 1.3.6.1.4.1.14519.5.2.1.36704591686447042405221465379068671868\n",
      "   ---------\n",
      "(0008, 1140)  Referenced Image Sequence  1 item(s) ---- \n",
      "   (0008, 1150) Referenced SOP Class UID            UI: MR Image Storage\n",
      "   (0008, 1155) Referenced SOP Instance UID         UI: 1.3.6.1.4.1.14519.5.2.1.313400746634097348371952088850174927923\n",
      "   ---------\n",
      "(0010, 0010) Patient's Name                      PN: 'GLI_001_GBM'\n",
      "(0010, 0020) Patient ID                          LO: 'GLI_001_GBM'\n",
      "(0010, 0030) Patient's Birth Date                DA: ''\n",
      "(0010, 0040) Patient's Sex                       CS: 'M'\n",
      "(0010, 1010) Patient's Age                       AS: '063Y'\n",
      "(0010, 1020) Patient's Size                      DS: '1.8034036091667'\n",
      "(0010, 1030) Patient's Weight                    DS: '113.398106925'\n",
      "(0012, 0062) Patient Identity Removed            CS: 'YES'\n",
      "(0012, 0063) De-identification Method            LO: ['Limited Data Set: MIM.6.7.11.I202-0A', 'Per DICOM PS 3.15 AnnexE. Details in 0012,0064']\n",
      "(0012, 0064)  De-identification Method Code Sequence  8 item(s) ---- \n",
      "   (0008, 0100) Code Value                          SH: '113100'\n",
      "   (0008, 0102) Coding Scheme Designator            SH: 'DCM'\n",
      "   (0008, 0104) Code Meaning                        LO: 'Basic Application Confidentiality Profile'\n",
      "   ---------\n",
      "   (0008, 0100) Code Value                          SH: '113101'\n",
      "   (0008, 0102) Coding Scheme Designator            SH: 'DCM'\n",
      "   (0008, 0104) Code Meaning                        LO: 'Clean Pixel Data Option'\n",
      "   ---------\n",
      "   (0008, 0100) Code Value                          SH: '113104'\n",
      "   (0008, 0102) Coding Scheme Designator            SH: 'DCM'\n",
      "   (0008, 0104) Code Meaning                        LO: 'Clean Structured Content Option'\n",
      "   ---------\n",
      "   (0008, 0100) Code Value                          SH: '113105'\n",
      "   (0008, 0102) Coding Scheme Designator            SH: 'DCM'\n",
      "   (0008, 0104) Code Meaning                        LO: 'Clean Descriptors Option'\n",
      "   ---------\n",
      "   (0008, 0100) Code Value                          SH: '113107'\n",
      "   (0008, 0102) Coding Scheme Designator            SH: 'DCM'\n",
      "   (0008, 0104) Code Meaning                        LO: 'Retain Longitudinal Temporal Information Modified Dates Option'\n",
      "   ---------\n",
      "   (0008, 0100) Code Value                          SH: '113108'\n",
      "   (0008, 0102) Coding Scheme Designator            SH: 'DCM'\n",
      "   (0008, 0104) Code Meaning                        LO: 'Retain Patient Characteristics Option'\n",
      "   ---------\n",
      "   (0008, 0100) Code Value                          SH: '113109'\n",
      "   (0008, 0102) Coding Scheme Designator            SH: 'DCM'\n",
      "   (0008, 0104) Code Meaning                        LO: 'Retain Device Identity Option'\n",
      "   ---------\n",
      "   (0008, 0100) Code Value                          SH: '113111'\n",
      "   (0008, 0102) Coding Scheme Designator            SH: 'DCM'\n",
      "   (0008, 0104) Code Meaning                        LO: 'Retain Safe Private Option'\n",
      "   ---------\n",
      "(0013, 0010) Private Creator                     LO: 'CTP'\n",
      "(0013, 1010) Private tag data                    UN: b'GLIS-RT '\n",
      "(0013, 1013) Private tag data                    UN: b'70148597'\n",
      "(0018, 0010) Contrast/Bolus Agent                LO: 'DOTAREM'\n",
      "(0018, 0015) Body Part Examined                  CS: 'HEAD'\n",
      "(0018, 0020) Scanning Sequence                   CS: ['GR', 'IR']\n",
      "(0018, 0021) Sequence Variant                    CS: ['SK', 'SP', 'MP']\n",
      "(0018, 0022) Scan Options                        CS: 'IR'\n",
      "(0018, 0023) MR Acquisition Type                 CS: '3D'\n",
      "(0018, 0024) Sequence Name                       SH: '*tfl3d1_16ns'\n",
      "(0018, 0025) Angio Flag                          CS: 'N'\n",
      "(0018, 0050) Slice Thickness                     DS: '1.0'\n",
      "(0018, 0080) Repetition Time                     DS: '2300.0'\n",
      "(0018, 0081) Echo Time                           DS: '2.98'\n",
      "(0018, 0082) Inversion Time                      DS: '900.0'\n",
      "(0018, 0083) Number of Averages                  DS: '1.0'\n",
      "(0018, 0084) Imaging Frequency                   DS: '123.245766'\n",
      "(0018, 0085) Imaged Nucleus                      SH: '1H'\n",
      "(0018, 0086) Echo Number(s)                      IS: '1'\n",
      "(0018, 0087) Magnetic Field Strength             DS: '3.0'\n",
      "(0018, 0089) Number of Phase Encoding Steps      IS: '255'\n",
      "(0018, 0091) Echo Train Length                   IS: '1'\n",
      "(0018, 0093) Percent Sampling                    DS: '100.0'\n",
      "(0018, 0094) Percent Phase Field of View         DS: '100.0'\n",
      "(0018, 0095) Pixel Bandwidth                     DS: '240.0'\n",
      "(0018, 1000) Device Serial Number                LO: ''\n",
      "(0018, 1020) Software Versions                   LO: 'syngo MR E11'\n",
      "(0018, 1030) Protocol Name                       LO: 'Sag T1 MPRAGE POST 1 mm iso_P3'\n",
      "(0018, 1041) Contrast/Bolus Volume               DS: '20.0'\n",
      "(0018, 1044) Contrast/Bolus Total Dose           DS: '0.0'\n",
      "(0018, 1048) Contrast/Bolus Ingredient           CS: ''\n",
      "(0018, 1049) Contrast/Bolus Ingredient Concentra DS: '0.0'\n",
      "(0018, 1251) Transmit Coil Name                  SH: 'Body'\n",
      "(0018, 1310) Acquisition Matrix                  US: [0, 256, 256, 0]\n",
      "(0018, 1312) In-plane Phase Encoding Direction   CS: 'ROW'\n",
      "(0018, 1314) Flip Angle                          DS: '9.0'\n",
      "(0018, 1315) Variable Flip Angle Flag            CS: 'N'\n",
      "(0018, 1316) SAR                                 DS: '0.07344229577259'\n",
      "(0018, 1318) dB/dt                               DS: '0.0'\n",
      "(0018, 5100) Patient Position                    CS: 'HFS'\n",
      "(0020, 000d) Study Instance UID                  UI: 1.3.6.1.4.1.14519.5.2.1.36704591686447042405221465379068671868\n",
      "(0020, 000e) Series Instance UID                 UI: 1.3.6.1.4.1.14519.5.2.1.125028729667929862870977139505755680512\n",
      "(0020, 0010) Study ID                            SH: ''\n",
      "(0020, 0011) Series Number                       IS: '15'\n",
      "(0020, 0012) Acquisition Number                  IS: '1'\n",
      "(0020, 0013) Instance Number                     IS: '1'\n",
      "(0020, 0032) Image Position (Patient)            DS: [-115.22018542152, -157.74461308275, -49.703368200197]\n",
      "(0020, 0037) Image Orientation (Patient)         DS: [0.99677887601114, 0.08019895471872, -2.38913976e-017, -0.0751207341279, 0.93366255447779, -0.3501872494396]\n",
      "(0020, 0052) Frame of Reference UID              UI: 1.3.6.1.4.1.14519.5.2.1.10050758049441138123295121602880728347\n",
      "(0020, 1040) Position Reference Indicator        LO: ''\n",
      "(0028, 0002) Samples per Pixel                   US: 1\n",
      "(0028, 0004) Photometric Interpretation          CS: 'MONOCHROME2'\n",
      "(0028, 0010) Rows                                US: 256\n",
      "(0028, 0011) Columns                             US: 256\n",
      "(0028, 0030) Pixel Spacing                       DS: [1, 1]\n",
      "(0028, 0100) Bits Allocated                      US: 16\n",
      "(0028, 0101) Bits Stored                         US: 12\n",
      "(0028, 0102) High Bit                            US: 11\n",
      "(0028, 0103) Pixel Representation                US: 0\n",
      "(0028, 0303) Longitudinal Temporal Information M CS: 'MODIFIED'\n",
      "(0028, 1050) Window Center                       DS: [431, 431]\n",
      "(0028, 1051) Window Width                        DS: [850, 850]\n",
      "(0028, 1055) Window Center & Width Explanation   LO: ['WINDOW1', 'WINDOW2']\n",
      "(0028, 2110) Lossy Image Compression             CS: '00'\n",
      "(0032, 000a) Study Status ID                     CS: 'READ'\n",
      "(0032, 000c) Study Priority ID                   CS: 'LOW'\n",
      "(0032, 1030) Reason for Study                    LO: '^+ S/P SURGERY [REL HX]~^'\n",
      "(0032, 1060) Requested Procedure Description     LO: 'MRI BRAIN'\n",
      "(7fe0, 0010) Pixel Data                          OW: Array of 131072 elements\n"
     ]
    }
   ],
   "source": [
    "print(dicom_file)"
   ]
  },
  {
   "cell_type": "code",
   "execution_count": 4,
   "id": "364d757b",
   "metadata": {},
   "outputs": [
    {
     "data": {
      "text/plain": [
       "pydicom.dataset.FileDataset"
      ]
     },
     "execution_count": 4,
     "metadata": {},
     "output_type": "execute_result"
    }
   ],
   "source": [
    "type(dicom_file)"
   ]
  },
  {
   "cell_type": "code",
   "execution_count": 5,
   "id": "2914e856",
   "metadata": {},
   "outputs": [
    {
     "data": {
      "text/plain": [
       "(0028, 0010) Rows                                US: 256"
      ]
     },
     "execution_count": 5,
     "metadata": {},
     "output_type": "execute_result"
    }
   ],
   "source": [
    "dicom_file[0x0028, 0x0010]"
   ]
  },
  {
   "cell_type": "code",
   "execution_count": 6,
   "id": "e7e3857d",
   "metadata": {},
   "outputs": [
    {
     "data": {
      "text/plain": [
       "256"
      ]
     },
     "execution_count": 6,
     "metadata": {},
     "output_type": "execute_result"
    }
   ],
   "source": [
    "dicom_file.Rows"
   ]
  },
  {
   "cell_type": "code",
   "execution_count": 7,
   "id": "ed6e4fe9",
   "metadata": {},
   "outputs": [],
   "source": [
    "mri = dicom_file.pixel_array"
   ]
  },
  {
   "cell_type": "code",
   "execution_count": null,
   "id": "504ac3cd",
   "metadata": {},
   "outputs": [],
   "source": [
    "plt.imshow(ct, cmap=)"
   ]
  }
 ],
 "metadata": {
  "kernelspec": {
   "display_name": "Python 3 (ipykernel)",
   "language": "python",
   "name": "python3"
  },
  "language_info": {
   "codemirror_mode": {
    "name": "ipython",
    "version": 3
   },
   "file_extension": ".py",
   "mimetype": "text/x-python",
   "name": "python",
   "nbconvert_exporter": "python",
   "pygments_lexer": "ipython3",
   "version": "3.9.12"
  }
 },
 "nbformat": 4,
 "nbformat_minor": 5
}
