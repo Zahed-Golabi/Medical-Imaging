{
 "cells": [
  {
   "cell_type": "markdown",
   "id": "3e8bdcec",
   "metadata": {},
   "source": [
    "# Kaggle Dataset"
   ]
  },
  {
   "cell_type": "markdown",
   "id": "525a7ff8",
   "metadata": {},
   "source": [
    "[https://www.kaggle.com/competitions/rsna-pneumonia-detection-challenge/](https://www.kaggle.com/competitions/rsna-pneumonia-detection-challenge/)"
   ]
  },
  {
   "cell_type": "code",
   "execution_count": null,
   "id": "450c0b53",
   "metadata": {},
   "outputs": [],
   "source": [
    "!pip install -q kaggle"
   ]
  },
  {
   "cell_type": "code",
   "execution_count": null,
   "id": "190e9734",
   "metadata": {},
   "outputs": [],
   "source": [
    "os.environ[\"KAGGLE_USERNAME\"] = \"zahedgolabi\"\n",
    "os.environ[\"KAGGLE_KEY\"] = \"#########################\""
   ]
  },
  {
   "cell_type": "code",
   "execution_count": null,
   "id": "15af60ed",
   "metadata": {},
   "outputs": [],
   "source": []
  }
 ],
 "metadata": {
  "kernelspec": {
   "display_name": "Python 3 (ipykernel)",
   "language": "python",
   "name": "python3"
  },
  "language_info": {
   "codemirror_mode": {
    "name": "ipython",
    "version": 3
   },
   "file_extension": ".py",
   "mimetype": "text/x-python",
   "name": "python",
   "nbconvert_exporter": "python",
   "pygments_lexer": "ipython3",
   "version": "3.9.12"
  }
 },
 "nbformat": 4,
 "nbformat_minor": 5
}
