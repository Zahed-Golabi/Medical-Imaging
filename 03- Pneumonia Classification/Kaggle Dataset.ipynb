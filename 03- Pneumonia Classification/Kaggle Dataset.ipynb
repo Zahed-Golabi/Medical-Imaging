{
  "cells": [
    {
      "cell_type": "markdown",
      "id": "3e8bdcec",
      "metadata": {
        "id": "3e8bdcec"
      },
      "source": [
        "# Kaggle Dataset"
      ]
    },
    {
      "cell_type": "markdown",
      "id": "525a7ff8",
      "metadata": {
        "id": "525a7ff8"
      },
      "source": [
        "[https://www.kaggle.com/competitions/rsna-pneumonia-detection-challenge/](https://www.kaggle.com/competitions/rsna-pneumonia-detection-challenge/)"
      ]
    },
    {
      "cell_type": "code",
      "source": [
        "import os\n",
        "import sys"
      ],
      "metadata": {
        "id": "iz7DUJZNE-YG"
      },
      "id": "iz7DUJZNE-YG",
      "execution_count": 2,
      "outputs": []
    },
    {
      "cell_type": "code",
      "execution_count": null,
      "id": "450c0b53",
      "metadata": {
        "id": "450c0b53"
      },
      "outputs": [],
      "source": [
        "!pip install -q kaggle"
      ]
    },
    {
      "cell_type": "code",
      "execution_count": null,
      "id": "190e9734",
      "metadata": {
        "id": "190e9734"
      },
      "outputs": [],
      "source": [
        "os.environ[\"KAGGLE_USERNAME\"] = \"zahedgolabi\"\n",
        "os.environ[\"KAGGLE_KEY\"] = \"#########################\""
      ]
    },
    {
      "cell_type": "code",
      "execution_count": null,
      "id": "15af60ed",
      "metadata": {
        "id": "15af60ed"
      },
      "outputs": [],
      "source": [
        "!kaggle competitions download -c rsna-pneumonia-detection-challenge"
      ]
    },
    {
      "cell_type": "markdown",
      "source": [
        "## Save Dataset to Google Drive"
      ],
      "metadata": {
        "id": "cB8A7DihEZ0O"
      },
      "id": "cB8A7DihEZ0O"
    },
    {
      "cell_type": "code",
      "source": [
        "from google.colab import drive\n",
        "drive.mount(\"/content/gdrive\")"
      ],
      "metadata": {
        "id": "l-3XzSuSEZZW"
      },
      "id": "l-3XzSuSEZZW",
      "execution_count": null,
      "outputs": []
    },
    {
      "cell_type": "code",
      "source": [
        "!cp -r \"/content/rsna-pneumonia-detection-challenge.zip\" /content/gdrive/MyDrive/Colab\\ Notebooks/Dataset/"
      ],
      "metadata": {
        "id": "EIyAgGgdEsuV"
      },
      "id": "EIyAgGgdEsuV",
      "execution_count": null,
      "outputs": []
    },
    {
      "cell_type": "code",
      "source": [
        "!unzip -q -o rsna-pneumonia-detection-challenge.zip -d datasets"
      ],
      "metadata": {
        "id": "mVIct_oeEvht"
      },
      "id": "mVIct_oeEvht",
      "execution_count": null,
      "outputs": []
    }
  ],
  "metadata": {
    "kernelspec": {
      "display_name": "Python 3 (ipykernel)",
      "language": "python",
      "name": "python3"
    },
    "language_info": {
      "codemirror_mode": {
        "name": "ipython",
        "version": 3
      },
      "file_extension": ".py",
      "mimetype": "text/x-python",
      "name": "python",
      "nbconvert_exporter": "python",
      "pygments_lexer": "ipython3",
      "version": "3.9.12"
    },
    "colab": {
      "provenance": []
    }
  },
  "nbformat": 4,
  "nbformat_minor": 5
}