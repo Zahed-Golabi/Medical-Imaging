{
  "cells": [
    {
      "cell_type": "markdown",
      "id": "3d71eb2b",
      "metadata": {
        "id": "3d71eb2b"
      },
      "source": [
        "# Train- Data Loading"
      ]
    },
    {
      "cell_type": "code",
      "execution_count": 1,
      "id": "c1d83c07",
      "metadata": {
        "id": "c1d83c07"
      },
      "outputs": [],
      "source": [
        "import numpy as np\n",
        "import pandas as pd\n",
        "import matplotlib.pyplot as plt\n",
        "\n",
        "import torch\n",
        "import torch.nn as nn\n",
        "import torchvision\n",
        "from torchvision import transforms\n",
        ""
      ]
    },
    {
      "cell_type": "markdown",
      "source": [
        "## Train and Validation Dataset"
      ],
      "metadata": {
        "id": "S8HIACDTYH_C"
      },
      "id": "S8HIACDTYH_C"
    },
    {
      "cell_type": "code",
      "execution_count": 2,
      "id": "27574ff9",
      "metadata": {
        "colab": {
          "base_uri": "https://localhost:8080/"
        },
        "id": "27574ff9",
        "outputId": "bff95a4d-fdc4-4dc6-811f-ca88fb91be46"
      },
      "outputs": [
        {
          "output_type": "stream",
          "name": "stdout",
          "text": [
            "Mounted at /content/gdrive\n"
          ]
        }
      ],
      "source": [
        "from google.colab import drive\n",
        "drive.mount(\"/content/gdrive\")"
      ]
    },
    {
      "cell_type": "code",
      "execution_count": 3,
      "id": "8e1090c6",
      "metadata": {
        "id": "8e1090c6"
      },
      "outputs": [],
      "source": [
        "# /content/gdrive/MyDrive/Colab Notebooks/Dataset/Processed.zip"
      ]
    },
    {
      "cell_type": "code",
      "execution_count": 4,
      "id": "d0e0779c",
      "metadata": {
        "id": "d0e0779c"
      },
      "outputs": [],
      "source": [
        "!unzip -q -o /content/gdrive/MyDrive/Colab\\ Notebooks/Dataset/Processed.zip -d datasets\n"
      ]
    },
    {
      "cell_type": "markdown",
      "source": [
        "#### Loading npy files"
      ],
      "metadata": {
        "id": "9v1V7BqYZkNy"
      },
      "id": "9v1V7BqYZkNy"
    },
    {
      "cell_type": "code",
      "source": [
        "def load_file(path):\n",
        "  np.load(path).astype(np.float32)"
      ],
      "metadata": {
        "id": "tBkVC94iY_XQ"
      },
      "id": "tBkVC94iY_XQ",
      "execution_count": 5,
      "outputs": []
    },
    {
      "cell_type": "code",
      "source": [
        "train_transforms = transforms.Compose([\n",
        "    transforms.ToTensor(),\n",
        "    transforms.Normalize(0.49, 0.248),\n",
        "    transforms.RandomAffine(degrees=(-5,5), translate=(0, 0.05), scale=(0.9, 1.1)),\n",
        "    transforms.RandomResizedCrop((224,224), scale=(0.35, 1))\n",
        "])"
      ],
      "metadata": {
        "id": "qGQGdLx-Zxd-"
      },
      "id": "qGQGdLx-Zxd-",
      "execution_count": 7,
      "outputs": []
    },
    {
      "cell_type": "code",
      "source": [
        "val_transforms = transforms.Compose([\n",
        "    transforms.ToTensor(),\n",
        "    transforms.Normalize(0.49, 0.248)\n",
        "])"
      ],
      "metadata": {
        "id": "rmMUMgl8bV6y"
      },
      "id": "rmMUMgl8bV6y",
      "execution_count": 8,
      "outputs": []
    },
    {
      "cell_type": "code",
      "source": [
        "train_dataset = torchvision.datasets.DatasetFolder(\"/content/datasets/train\", loader=load_file, extensions=\"npy\", transform=train_transforms)"
      ],
      "metadata": {
        "id": "-sdiR5zNbimO"
      },
      "id": "-sdiR5zNbimO",
      "execution_count": 10,
      "outputs": []
    },
    {
      "cell_type": "code",
      "source": [
        "val_dataset = torchvision.datasets.DatasetFolder(\"/content/datasets/val\", loader=load_file, extensions=\"npy\", transform=val_transforms)"
      ],
      "metadata": {
        "id": "sCCIy1RAcOBY"
      },
      "id": "sCCIy1RAcOBY",
      "execution_count": 11,
      "outputs": []
    },
    {
      "cell_type": "code",
      "source": [
        "fig, axis = plt.subplots(2,2, figsize=(10,10))\n",
        "\n",
        "for row in range(2):\n",
        "  for column in range(2):\n",
        "    random_index = np.random.randint(0,24000)\n",
        "    x_ray, label = train_dataset[random_index]\n"
      ],
      "metadata": {
        "id": "sYYxuhvwcXAU",
        "outputId": "66564312-0a63-450d-a944-167d97e8f6b9",
        "colab": {
          "base_uri": "https://localhost:8080/"
        }
      },
      "id": "sYYxuhvwcXAU",
      "execution_count": 13,
      "outputs": [
        {
          "output_type": "execute_result",
          "data": {
            "text/plain": [
              "torchvision.datasets.folder.DatasetFolder"
            ]
          },
          "metadata": {},
          "execution_count": 13
        }
      ]
    }
  ],
  "metadata": {
    "kernelspec": {
      "display_name": "Python 3 (ipykernel)",
      "language": "python",
      "name": "python3"
    },
    "language_info": {
      "codemirror_mode": {
        "name": "ipython",
        "version": 3
      },
      "file_extension": ".py",
      "mimetype": "text/x-python",
      "name": "python",
      "nbconvert_exporter": "python",
      "pygments_lexer": "ipython3",
      "version": "3.9.12"
    },
    "colab": {
      "provenance": []
    }
  },
  "nbformat": 4,
  "nbformat_minor": 5
}