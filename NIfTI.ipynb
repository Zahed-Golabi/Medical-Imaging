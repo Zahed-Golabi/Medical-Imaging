{
 "cells": [
  {
   "cell_type": "markdown",
   "id": "6d437b5a",
   "metadata": {},
   "source": [
    "# NIfTI"
   ]
  },
  {
   "cell_type": "code",
   "execution_count": 3,
   "id": "4d53aaf2",
   "metadata": {},
   "outputs": [],
   "source": [
    "import dicom2nifti"
   ]
  },
  {
   "cell_type": "code",
   "execution_count": 4,
   "id": "16751c09",
   "metadata": {},
   "outputs": [],
   "source": [
    "path_to_dicom = \"imgs/dicom/\""
   ]
  },
  {
   "cell_type": "code",
   "execution_count": 5,
   "id": "d43e80ee",
   "metadata": {},
   "outputs": [],
   "source": [
    "dicom2nifti.convert_directory(path_to_dicom, \"imgs/nifti/\")"
   ]
  },
  {
   "cell_type": "code",
   "execution_count": 6,
   "id": "a62e223d",
   "metadata": {},
   "outputs": [],
   "source": [
    "import nibabel as nib\n",
    "import matplotlib.pyplot as plt"
   ]
  },
  {
   "cell_type": "code",
   "execution_count": 7,
   "id": "e3448981",
   "metadata": {},
   "outputs": [],
   "source": [
    "nifti = nib.load(\"imgs/nifti/15_axial_mprage_post_reformat.nii.gz\")"
   ]
  },
  {
   "cell_type": "code",
   "execution_count": 8,
   "id": "b09348a4",
   "metadata": {},
   "outputs": [
    {
     "name": "stdout",
     "output_type": "stream",
     "text": [
      "\n",
      "<class 'nibabel.nifti1.Nifti1Image'>\n",
      "data shape (256, 256, 10)\n",
      "affine:\n",
      "[[-9.96778905e-01 -7.51207322e-02  2.80846506e-02  1.34375977e+02]\n",
      " [-8.01989511e-02  9.33662534e-01 -3.49059254e-01 -8.03393402e+01]\n",
      " [-2.38913981e-17  3.50187242e-01  9.36679721e-01 -1.39001114e+02]\n",
      " [ 0.00000000e+00  0.00000000e+00  0.00000000e+00  1.00000000e+00]]\n",
      "metadata:\n",
      "<class 'nibabel.nifti1.Nifti1Header'> object, endian='<'\n",
      "sizeof_hdr      : 348\n",
      "data_type       : b''\n",
      "db_name         : b''\n",
      "extents         : 0\n",
      "session_error   : 0\n",
      "regular         : b''\n",
      "dim_info        : 0\n",
      "dim             : [  3 256 256  10   1   1   1   1]\n",
      "intent_p1       : 0.0\n",
      "intent_p2       : 0.0\n",
      "intent_p3       : 0.0\n",
      "intent_code     : none\n",
      "datatype        : uint16\n",
      "bitpix          : 16\n",
      "slice_start     : 0\n",
      "pixdim          : [-1.  1.  1.  1.  1.  1.  1.  1.]\n",
      "vox_offset      : 0.0\n",
      "scl_slope       : nan\n",
      "scl_inter       : nan\n",
      "slice_end       : 0\n",
      "slice_code      : unknown\n",
      "xyzt_units      : 2\n",
      "cal_max         : 0.0\n",
      "cal_min         : 0.0\n",
      "slice_duration  : 0.0\n",
      "toffset         : 0.0\n",
      "glmax           : 0\n",
      "glmin           : 0\n",
      "descrip         : b''\n",
      "aux_file        : b''\n",
      "qform_code      : unknown\n",
      "sform_code      : aligned\n",
      "quatern_b       : 0.039491408\n",
      "quatern_c       : -0.98324984\n",
      "quatern_d       : -0.17778963\n",
      "qoffset_x       : 134.37598\n",
      "qoffset_y       : -80.33934\n",
      "qoffset_z       : -139.00111\n",
      "srow_x          : [-9.9677891e-01 -7.5120732e-02  2.8084651e-02  1.3437598e+02]\n",
      "srow_y          : [-8.0198951e-02  9.3366253e-01 -3.4905925e-01 -8.0339340e+01]\n",
      "srow_z          : [-2.3891398e-17  3.5018724e-01  9.3667972e-01 -1.3900111e+02]\n",
      "intent_name     : b''\n",
      "magic           : b'n+1'\n",
      "\n"
     ]
    }
   ],
   "source": [
    "print(nifti)"
   ]
  },
  {
   "cell_type": "code",
   "execution_count": 9,
   "id": "3c0ffdb7",
   "metadata": {},
   "outputs": [
    {
     "data": {
      "text/plain": [
       "array(-80.33934, dtype=float32)"
      ]
     },
     "execution_count": 9,
     "metadata": {},
     "output_type": "execute_result"
    }
   ],
   "source": [
    "nifti.header[\"qoffset_y\"]"
   ]
  },
  {
   "cell_type": "code",
   "execution_count": 10,
   "id": "7ee2ebfc",
   "metadata": {},
   "outputs": [
    {
     "data": {
      "text/plain": [
       "(256, 256, 10)"
      ]
     },
     "execution_count": 10,
     "metadata": {},
     "output_type": "execute_result"
    }
   ],
   "source": [
    "nifti.shape"
   ]
  },
  {
   "cell_type": "code",
   "execution_count": 11,
   "id": "53ddf4df",
   "metadata": {},
   "outputs": [],
   "source": [
    "image_array = nifti.get_fdata()"
   ]
  },
  {
   "cell_type": "code",
   "execution_count": null,
   "id": "d0292c2d",
   "metadata": {},
   "outputs": [],
   "source": []
  }
 ],
 "metadata": {
  "kernelspec": {
   "display_name": "Python 3 (ipykernel)",
   "language": "python",
   "name": "python3"
  },
  "language_info": {
   "codemirror_mode": {
    "name": "ipython",
    "version": 3
   },
   "file_extension": ".py",
   "mimetype": "text/x-python",
   "name": "python",
   "nbconvert_exporter": "python",
   "pygments_lexer": "ipython3",
   "version": "3.9.12"
  }
 },
 "nbformat": 4,
 "nbformat_minor": 5
}
